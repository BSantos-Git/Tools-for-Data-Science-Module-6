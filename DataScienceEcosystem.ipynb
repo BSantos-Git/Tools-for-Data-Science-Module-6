{
 "cells": [
  {
   "cell_type": "markdown",
   "id": "5eadbf58-403a-47e2-bfb7-9db1accbf78c",
   "metadata": {},
   "source": [
    "# Data Science Tools and Ecosystem"
   ]
  },
  {
   "cell_type": "markdown",
   "id": "aaddbacd-6ea7-4120-9d4b-33863db37e58",
   "metadata": {},
   "source": [
    "In this notebook, Data Science Tools and Ecosystem are summarized."
   ]
  },
  {
   "cell_type": "markdown",
   "id": "ce297b6f-73d5-452d-b38d-3a2491d2eb98",
   "metadata": {},
   "source": [
    "**Objectives:**\n",
    "- List popular languages for Data Science\n",
    "- List commonly used libraries in Data Science\n",
    "- List 3 Open source tools used in Data Science\n",
    "- Evaluate numeric arithmetic expressions "
   ]
  },
  {
   "cell_type": "markdown",
   "id": "909af1aa-9048-4c24-9476-60de800b5e71",
   "metadata": {},
   "source": [
    "Some of the popular languages that Data Scientists use are:\n",
    "1. Python\n",
    "2. R\n",
    "3. SQL"
   ]
  },
  {
   "cell_type": "markdown",
   "id": "20a7e261-d116-491c-9bcd-8187f9ffb9ae",
   "metadata": {},
   "source": [
    "Some of the commonly used libraries used by Data Scientists include:\n",
    "1. NumPy\n",
    "2. Pandas\n",
    "3. Matplotlib\n",
    "4. TensorFlow"
   ]
  },
  {
   "cell_type": "markdown",
   "id": "bfe24ba7-ac16-4733-9c60-44003b02473b",
   "metadata": {},
   "source": [
    "| Data Science Tools |\n",
    ":--------:\n",
    "| Apache Hadoop |\n",
    "| Apache Spark |\n",
    "| Apache Flink |"
   ]
  },
  {
   "cell_type": "markdown",
   "id": "c36e4d4d-abf9-4346-b781-8501e17e923d",
   "metadata": {},
   "source": [
    "### Below are a few examples of evaluating arithmetic expressions in Python"
   ]
  },
  {
   "cell_type": "code",
   "execution_count": 12,
   "id": "288448c0-ced2-47c0-b438-749c647fbf24",
   "metadata": {},
   "outputs": [
    {
     "data": {
      "text/plain": [
       "17"
      ]
     },
     "execution_count": 12,
     "metadata": {},
     "output_type": "execute_result"
    }
   ],
   "source": [
    "(3*4)+5\n",
    "# This a simple arithmetic expression to mutiply then add integers"
   ]
  },
  {
   "cell_type": "code",
   "execution_count": 11,
   "id": "2c73843e-d30c-42ca-9634-fef82307cc28",
   "metadata": {},
   "outputs": [
    {
     "data": {
      "text/plain": [
       "3.3333333333333335"
      ]
     },
     "execution_count": 11,
     "metadata": {},
     "output_type": "execute_result"
    }
   ],
   "source": [
    "# This will convert 200 minutes to hours by diving by 60\n",
    "200/60"
   ]
  },
  {
   "cell_type": "markdown",
   "id": "1a73a33e-d0c1-4958-ab5e-0b8e03d8eb5d",
   "metadata": {},
   "source": [
    "## Author\n",
    "Bárbara Santos"
   ]
  }
 ],
 "metadata": {
  "kernelspec": {
   "display_name": "Python 3 (ipykernel)",
   "language": "python",
   "name": "python3"
  },
  "language_info": {
   "codemirror_mode": {
    "name": "ipython",
    "version": 3
   },
   "file_extension": ".py",
   "mimetype": "text/x-python",
   "name": "python",
   "nbconvert_exporter": "python",
   "pygments_lexer": "ipython3",
   "version": "3.12.8"
  }
 },
 "nbformat": 4,
 "nbformat_minor": 5
}
